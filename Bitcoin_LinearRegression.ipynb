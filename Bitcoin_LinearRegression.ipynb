{
 "cells": [
  {
   "cell_type": "code",
   "execution_count": 2,
   "metadata": {},
   "outputs": [
    {
     "name": "stdout",
     "output_type": "stream",
     "text": [
      "Requirement already satisfied: scikit-learn in c:\\users\\ddola\\anaconda3\\lib\\site-packages (1.0.2)\n",
      "Collecting scikit-learn\n",
      "  Downloading scikit_learn-1.1.3-cp39-cp39-win_amd64.whl (7.6 MB)\n",
      "Requirement already satisfied: numpy>=1.17.3 in c:\\users\\ddola\\anaconda3\\lib\\site-packages (from scikit-learn) (1.21.5)\n",
      "Requirement already satisfied: scipy>=1.3.2 in c:\\users\\ddola\\anaconda3\\lib\\site-packages (from scikit-learn) (1.7.3)\n",
      "Requirement already satisfied: threadpoolctl>=2.0.0 in c:\\users\\ddola\\anaconda3\\lib\\site-packages (from scikit-learn) (2.2.0)\n",
      "Requirement already satisfied: joblib>=1.0.0 in c:\\users\\ddola\\anaconda3\\lib\\site-packages (from scikit-learn) (1.1.0)\n",
      "Installing collected packages: scikit-learn\n",
      "  Attempting uninstall: scikit-learn\n",
      "    Found existing installation: scikit-learn 1.0.2\n",
      "    Uninstalling scikit-learn-1.0.2:\n",
      "      Successfully uninstalled scikit-learn-1.0.2\n",
      "Successfully installed scikit-learn-1.1.3\n",
      "Note: you may need to restart the kernel to use updated packages.\n"
     ]
    }
   ],
   "source": [
    "pip install -U scikit-learn"
   ]
  },
  {
   "cell_type": "code",
   "execution_count": 28,
   "metadata": {},
   "outputs": [
    {
     "name": "stdout",
     "output_type": "stream",
     "text": [
      "<class 'pandas.core.frame.DataFrame'>\n",
      "DatetimeIndex: 1655 entries, 2013-04-28 to 2017-11-07\n",
      "Data columns (total 6 columns):\n",
      " #   Column      Non-Null Count  Dtype  \n",
      "---  ------      --------------  -----  \n",
      " 0   Open        1655 non-null   float64\n",
      " 1   High        1655 non-null   float64\n",
      " 2   Low         1655 non-null   float64\n",
      " 3   Close       1655 non-null   float64\n",
      " 4   Volume      1655 non-null   object \n",
      " 5   Market Cap  1655 non-null   object \n",
      "dtypes: float64(4), object(2)\n",
      "memory usage: 90.5+ KB\n",
      "              Close\n",
      "Date               \n",
      "2017-11-03  7207.76\n",
      "2017-11-04  7379.95\n",
      "2017-11-05  7407.41\n",
      "2017-11-06  7022.76\n",
      "2017-11-07  7144.38\n"
     ]
    }
   ],
   "source": [
    "# import quandl\n",
    "import pandas as pd\n",
    "import numpy as np\n",
    "import datetime\n",
    "from math import sqrt\n",
    "import sklearn\n",
    "from sklearn.linear_model import LinearRegression\n",
    "from sklearn import preprocessing, svm\n",
    "from sklearn.model_selection import train_test_split\n",
    "from sklearn.metrics import mean_squared_error\n",
    "\n",
    "# df = quandl.get(\"WIKI/AMZN\")\n",
    "df = pd.read_csv('bitcoin_price.csv', parse_dates=['Date'],)\n",
    "df=df.iloc[::-1]\n",
    "df.index = df['Date']\n",
    "del df['Date']\n",
    "df.info()\n",
    "df = df[['Close']]\n",
    "print(df.tail())"
   ]
  },
  {
   "cell_type": "code",
   "execution_count": 8,
   "metadata": {},
   "outputs": [
    {
     "data": {
      "text/html": [
       "<div>\n",
       "<style scoped>\n",
       "    .dataframe tbody tr th:only-of-type {\n",
       "        vertical-align: middle;\n",
       "    }\n",
       "\n",
       "    .dataframe tbody tr th {\n",
       "        vertical-align: top;\n",
       "    }\n",
       "\n",
       "    .dataframe thead th {\n",
       "        text-align: right;\n",
       "    }\n",
       "</style>\n",
       "<table border=\"1\" class=\"dataframe\">\n",
       "  <thead>\n",
       "    <tr style=\"text-align: right;\">\n",
       "      <th></th>\n",
       "      <th>Close</th>\n",
       "    </tr>\n",
       "    <tr>\n",
       "      <th>Date</th>\n",
       "      <th></th>\n",
       "    </tr>\n",
       "  </thead>\n",
       "  <tbody>\n",
       "    <tr>\n",
       "      <th>2013-04-28</th>\n",
       "      <td>134.21</td>\n",
       "    </tr>\n",
       "    <tr>\n",
       "      <th>2013-04-29</th>\n",
       "      <td>144.54</td>\n",
       "    </tr>\n",
       "    <tr>\n",
       "      <th>2013-04-30</th>\n",
       "      <td>139.00</td>\n",
       "    </tr>\n",
       "    <tr>\n",
       "      <th>2013-05-01</th>\n",
       "      <td>116.99</td>\n",
       "    </tr>\n",
       "    <tr>\n",
       "      <th>2013-05-02</th>\n",
       "      <td>105.21</td>\n",
       "    </tr>\n",
       "  </tbody>\n",
       "</table>\n",
       "</div>"
      ],
      "text/plain": [
       "             Close\n",
       "Date              \n",
       "2013-04-28  134.21\n",
       "2013-04-29  144.54\n",
       "2013-04-30  139.00\n",
       "2013-05-01  116.99\n",
       "2013-05-02  105.21"
      ]
     },
     "execution_count": 8,
     "metadata": {},
     "output_type": "execute_result"
    }
   ],
   "source": [
    "df.head()"
   ]
  },
  {
   "cell_type": "code",
   "execution_count": 16,
   "metadata": {},
   "outputs": [
    {
     "name": "stderr",
     "output_type": "stream",
     "text": [
      "C:\\Users\\ddola\\AppData\\Local\\Temp\\ipykernel_24724\\342806010.py:7: FutureWarning: In a future version of pandas all arguments of DataFrame.drop except for the argument 'labels' will be keyword-only.\n",
      "  X = np.array(df.drop(['Prediction'],1))\n"
     ]
    },
    {
     "name": "stdout",
     "output_type": "stream",
     "text": [
      "confidence:  0.8807718279581067\n",
      "[5867.77719538 5880.17000913 5935.47154214 6706.67248889 6955.64747339\n",
      " 7185.0823343  6994.1559358  7053.07462908 6903.81393942 6885.39252519\n",
      " 7031.85644144 7408.401584   7433.4482437  7404.63526247 7307.55614969\n",
      " 6805.77770863 7084.41092144 7275.87181442 7121.82553469 7087.25741527\n",
      " 7585.40626594 7556.41926325 7976.39518943 8347.94343016 8734.75583868\n",
      " 8895.42736388 9109.46132584 9143.59439162 8665.4704386  8816.64536429]\n"
     ]
    }
   ],
   "source": [
    "df = df[['Close']]\n",
    "\n",
    "forecast_out = int(30)\n",
    "\n",
    "df['Prediction'] = df[['Close']].shift(-forecast_out)\n",
    "\n",
    "X = np.array(df.drop(['Prediction'],1))\n",
    "X = preprocessing.scale(X)\n",
    "\n",
    "X_forecast = X[-forecast_out:]\n",
    "X = X[:-forecast_out]\n",
    "\n",
    "y = np.array(df['Prediction'])\n",
    "y = y[:-forecast_out]\n",
    "\n",
    "X_train, X_test, y_train, y_test = train_test_split(X, y, test_size = 0.2)\n",
    "\n",
    "clf = LinearRegression()\n",
    "clf.fit(X_train,y_train)\n",
    "\n",
    "confidence = clf.score(X_test, y_test)\n",
    "print(\"confidence: \", confidence)\n",
    "\n",
    "forecast_prediction = clf.predict(X_forecast)\n",
    "print(forecast_prediction)"
   ]
  },
  {
   "cell_type": "code",
   "execution_count": 17,
   "metadata": {},
   "outputs": [
    {
     "data": {
      "image/png": "[encoded data removed]",
      "text/plain": [
       "<Figure size 432x288 with 1 Axes>"
      ]
     },
     "metadata": {
      "needs_background": "light"
     },
     "output_type": "display_data"
    }
   ],
   "source": [
    "import matplotlib.pyplot as plt\n",
    "# print(X_test)\n",
    "# print(y_test)\n",
    "# plt.plot(X_test,forecast_set,color='blue', linewidth=1)\n",
    "plt.scatter(X_test, y_test, color='darkorange', label='data')\n",
    "# plt.plot(X_test, y_test, color='darkorange', linewidth=1)\n",
    "# plt.plot(X_test, forecast_prediction, color='blue', linew/idth=2)\n",
    "plt.show()"
   ]
  },
  {
   "cell_type": "code",
   "execution_count": 33,
   "metadata": {},
   "outputs": [
    {
     "data": {
      "text/plain": [
       "0.8807718279581067"
      ]
     },
     "execution_count": 33,
     "metadata": {},
     "output_type": "execute_result"
    }
   ],
   "source": [
    "clf.score(X_test,y_test)\n"
   ]
  },
  {
   "cell_type": "code",
   "execution_count": 19,
   "metadata": {},
   "outputs": [],
   "source": [
    "# dict_new = {\n",
    "#     'Date': X_train,\n",
    "#     'Close': y_train\n",
    "# }\n",
    "# df1=pd.DataFrame(dict_new).set_index('Date')\n",
    "# df1"
   ]
  },
  {
   "cell_type": "code",
   "execution_count": 20,
   "metadata": {},
   "outputs": [
    {
     "data": {
      "image/png": "[encoded data removed]",
      "text/plain": [
       "<Figure size 864x576 with 1 Axes>"
      ]
     },
     "metadata": {
      "needs_background": "light"
     },
     "output_type": "display_data"
    }
   ],
   "source": [
    "plt.figure(figsize=(12,8))\n",
    "plt.plot(df['Close'], label='Train')\n",
    "# plt.plot(X_test['Close'], label='Test')\n",
    "# plt.plot(y_hat_avg['avg_forecast'], label='Average Forecast')\n",
    "plt.legend(loc='best')\n",
    "plt.show()"
   ]
  },
  {
   "cell_type": "code",
   "execution_count": null,
   "metadata": {},
   "outputs": [],
   "source": [
    "rms = sqrt(mean_squared_error(test.Close, y_hat_avg.avg_forecast))\n",
    "print(rms)"
   ]
  }
 ],
 "metadata": {
  "kernelspec": {
   "display_name": "Python 3 (ipykernel)",
   "language": "python",
   "name": "python3"
  },
  "language_info": {
   "codemirror_mode": {
    "name": "ipython",
    "version": 3
   },
   "file_extension": ".py",
   "mimetype": "text/x-python",
   "name": "python",
   "nbconvert_exporter": "python",
   "pygments_lexer": "ipython3",
   "version": "3.9.12"
  }
 },
 "nbformat": 4,
 "nbformat_minor": 2
}
